{
 "cells": [
  {
   "cell_type": "markdown",
   "metadata": {},
   "source": [
    "# Linear Discriminant Analysis (LDA)\n",
    "\n",
    "The PCA can be viewed as a dimensionality reduction scheme, projecting onto the directions with maximal variance.\n",
    "\n",
    "LDA is also a dimensionality reduction scheme but operates on a very different principle. Now we are given data that belongs to different classes. We are given both the data value $x$ and a class label $y$ If we have $k$ classes then $y$ will take on $k$ labels, in Python typicall the values 0 through $k-1$. \n",
    "\n",
    "The idea is to project the data onto a lower dimensional space in such a way that maximal *class separation* is achieved in the lower dimensional space.\n",
    "\n",
    "You can learn more about the scikit-learn implementation at http://scikit-learn.org/stable/modules/generated/sklearn.lda.LDA.html\n",
    "\n",
    "You will investigate the difference between  PCA using the wine data set, for more information see  http://archive.ics.uci.edu/ml/datasets/Wine Since the wine dataset is 13 dimensional the difference between PCA and LDA is more pronounced than say, with the Iris data set. \n",
    "\n",
    "We project down to 2 dimensions for easy visualization. In fact, since there are only 3 classes, one does not retain any more information by using higher dimensions.\n"
   ]
  },
  {
   "cell_type": "markdown",
   "metadata": {},
   "source": [
    "## Import packages"
   ]
  },
  {
   "cell_type": "code",
   "execution_count": 1,
   "metadata": {},
   "outputs": [],
   "source": [
    "%matplotlib inline\n",
    "%load_ext autoreload\n",
    "%autoreload 2\n",
    "\n",
    "import numpy as np\n",
    "from matplotlib import pylab as plt\n",
    "from sklearn.decomposition import PCA\n",
    "from sklearn.discriminant_analysis import LinearDiscriminantAnalysis as LDA\n",
    "\n",
    "# Import different modules for using with the notebook\n",
    "from IPython.display import display\n",
    "from IPython.display import Image"
   ]
  },
  {
   "cell_type": "markdown",
   "metadata": {},
   "source": [
    "## Loading the data\n",
    "\n",
    "Read the data, extract the class labels from the last column, then extract the names of the classes using the convenient `set` function in Python. \n"
   ]
  },
  {
   "cell_type": "code",
   "execution_count": 3,
   "metadata": {},
   "outputs": [],
   "source": [
    "# import training data\n",
    "wine_train = np.loadtxt('./data/wine/wine_train.txt',delimiter = ',')\n",
    "wine_train_labels = wine_train[:,-1]\n",
    "wine_train_classes = list(set(wine_train_labels))\n",
    "wine_train_classes = np.array(wine_train_classes, dtype=int)\n",
    "wine_train_labels = np.array(wine_train_labels, dtype = int)\n",
    "wine_train = wine_train[:,:-1]\n",
    "\n",
    "# import testing data\n",
    "wine_test = np.loadtxt('./data/wine/wine_test.txt', delimiter = ',')\n",
    "wine_test_labels = wine_test[:,-1]\n",
    "wine_test_classes = list(set(wine_test_labels))\n",
    "wine_test_classes = np.array(wine_test_classes, dtype=int)\n",
    "wine_test_labels = np.array(wine_test_labels, dtype = int)\n",
    "wine_test = wine_test[:, :-1]"
   ]
  },
  {
   "cell_type": "markdown",
   "metadata": {},
   "source": [
    "---"
   ]
  },
  {
   "cell_type": "markdown",
   "metadata": {},
   "source": [
    "## PCA\n",
    "\n",
    "Project the data onto 2 PCA components and display the classes of the dimension-reduced data."
   ]
  },
  {
   "cell_type": "code",
   "execution_count": 9,
   "metadata": {},
   "outputs": [
    {
     "data": {
      "image/png": "[encoded data removed]",
      "text/plain": [
       "<Figure size 432x288 with 1 Axes>"
      ]
     },
     "metadata": {},
     "output_type": "display_data"
    }
   ],
   "source": [
    "# fit the model on training data\n",
    "pca = PCA(n_components=2)\n",
    "pca.fit(wine_train)\n",
    "pr_data = pca.transform(wine_test)\n",
    "\n",
    "# Plot the 3 classes \n",
    "col = ['r*','yo','k+']\n",
    "for cl in wine_test_classes:\n",
    "    cl_labels = np.array([wine_test_labels==cl]).flatten()\n",
    "    dat_cl = pr_data[cl_labels,:]\n",
    "    plt.plot(dat_cl[:,0],dat_cl[:,1],col[int(cl-1)])\n",
    "    \n",
    "plt.title('The projection onto 2 PCA components')\n",
    "plt.show()"
   ]
  },
  {
   "cell_type": "markdown",
   "metadata": {},
   "source": [
    "## LDA\n",
    "\n",
    "Fit an LDA model to the data, using 2 components and display the different classes of the projected data."
   ]
  },
  {
   "cell_type": "code",
   "execution_count": 12,
   "metadata": {},
   "outputs": [
    {
     "data": {
      "image/png": "[encoded data removed]",
      "text/plain": [
       "<Figure size 432x288 with 1 Axes>"
      ]
     },
     "metadata": {},
     "output_type": "display_data"
    }
   ],
   "source": [
    "# Fit LDA on training data\n",
    "lda = LDA(n_components=2)\n",
    "lda.fit(wine_train, wine_train_labels)\n",
    "\n",
    "# Transform training and test data\n",
    "wine_train_lda = lda.transform(wine_train)\n",
    "wine_test_lda = lda.transform(wine_test)\n",
    "\n",
    "\n",
    "# Plot the 3 classes\n",
    "col = ['r*','yo','k+']\n",
    "means = np.zeros((2,3))\n",
    "\n",
    "for cl in wine_train_classes:\n",
    "    cl_labels = np.array([wine_test_labels == cl]).flatten()\n",
    "    wine_cl = wine_test_lda[cl_labels, :]\n",
    "    \n",
    "    means[:, int(cl-1)] = np.mean(wine_cl, axis=0)\n",
    "   \n",
    "    plt.plot(wine_cl[:,0], wine_cl[:,1], col[int(cl-1)])\n",
    "\n",
    "plt.title('Transformation of test data, 2 LDA components')\n",
    "plt.show()"
   ]
  },
  {
   "cell_type": "markdown",
   "metadata": {},
   "source": [
    "There should be no doubt that the LDA projection is much better at preserving the class structure."
   ]
  }
 ],
 "metadata": {
  "kernelspec": {
   "display_name": "Python 3",
   "language": "python",
   "name": "python3"
  },
  "language_info": {
   "codemirror_mode": {
    "name": "ipython",
    "version": 3
   },
   "file_extension": ".py",
   "mimetype": "text/x-python",
   "name": "python",
   "nbconvert_exporter": "python",
   "pygments_lexer": "ipython3",
   "version": "3.7.6"
  }
 },
 "nbformat": 4,
 "nbformat_minor": 2
}
