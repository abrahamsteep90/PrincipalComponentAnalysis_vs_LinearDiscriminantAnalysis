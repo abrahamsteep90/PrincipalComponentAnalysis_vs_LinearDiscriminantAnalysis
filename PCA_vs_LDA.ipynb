{
 "cells": [
  {
   "cell_type": "markdown",
   "metadata": {},
   "source": [
    "## Import packages"
   ]
  },
  {
   "cell_type": "code",
   "execution_count": 26,
   "metadata": {},
   "outputs": [],
   "source": [
    "%matplotlib inline\n",
    "import numpy as np\n",
    "import pandas as pd\n",
    "from matplotlib import pylab as plt\n",
    "from sklearn.decomposition import PCA\n",
    "from sklearn.discriminant_analysis import LinearDiscriminantAnalysis as LDA"
   ]
  },
  {
   "cell_type": "markdown",
   "metadata": {},
   "source": [
    "## Loading the data"
   ]
  },
  {
   "cell_type": "code",
   "execution_count": 30,
   "metadata": {},
   "outputs": [],
   "source": [
    "# import training data\n",
    "wine_train = np.loadtxt('wine_train.txt',delimiter = ',')\n",
    "wine_train_labels = wine_train[:,-1]\n",
    "wine_train_classes = list(set(wine_train_labels))\n",
    "wine_train_classes = np.array(wine_train_classes, dtype=int)\n",
    "wine_train_labels = np.array(wine_train_labels, dtype = int)\n",
    "wine_train = wine_train[:,:-1]\n",
    "\n",
    "# import testing data\n",
    "wine_test = np.loadtxt('wine_test.txt', delimiter = ',')\n",
    "wine_test_labels = wine_test[:,-1]\n",
    "wine_test_classes = list(set(wine_test_labels))\n",
    "wine_test_classes = np.array(wine_test_classes, dtype=int)\n",
    "wine_test_labels = np.array(wine_test_labels, dtype = int)\n",
    "wine_test = wine_test[:, :-1]"
   ]
  },
  {
   "cell_type": "markdown",
   "metadata": {},
   "source": [
    "---"
   ]
  },
  {
   "cell_type": "markdown",
   "metadata": {},
   "source": [
    "## PCA\n",
    "\n",
    "Project the data onto 2 PCA components and display the classes of the dimension-reduced data."
   ]
  },
  {
   "cell_type": "code",
   "execution_count": 31,
   "metadata": {},
   "outputs": [
    {
     "data": {
      "image/png": "[encoded data removed]",
      "text/plain": [
       "<Figure size 432x288 with 1 Axes>"
      ]
     },
     "metadata": {
      "needs_background": "light"
     },
     "output_type": "display_data"
    }
   ],
   "source": [
    "# fit the model on training data\n",
    "pca = PCA(n_components=2)\n",
    "pca.fit(wine_train)\n",
    "pr_data = pca.transform(wine_test)\n",
    "\n",
    "# Plot the 3 classes \n",
    "col = ['r*','yo','k+']\n",
    "for cl in wine_test_classes:\n",
    "    cl_labels = np.array([wine_test_labels==cl]).flatten()\n",
    "    dat_cl = pr_data[cl_labels,:]\n",
    "    plt.plot(dat_cl[:,0],dat_cl[:,1],col[int(cl-1)])\n",
    "    \n",
    "plt.title('The projection onto 2 PCA components')\n",
    "plt.show()"
   ]
  },
  {
   "cell_type": "markdown",
   "metadata": {},
   "source": [
    "## LDA\n",
    "\n",
    "Fit an LDA model to the data, using 2 components and display the different classes of the projected data."
   ]
  },
  {
   "cell_type": "code",
   "execution_count": 32,
   "metadata": {},
   "outputs": [
    {
     "data": {
      "image/png": "[encoded data removed]",
      "text/plain": [
       "<Figure size 432x288 with 1 Axes>"
      ]
     },
     "metadata": {
      "needs_background": "light"
     },
     "output_type": "display_data"
    }
   ],
   "source": [
    "# Fit LDA on training data\n",
    "lda = LDA(n_components=2)\n",
    "lda.fit(wine_train, wine_train_labels)\n",
    "\n",
    "# Transform training and test data\n",
    "wine_train_lda = lda.transform(wine_train)\n",
    "wine_test_lda = lda.transform(wine_test)\n",
    "\n",
    "\n",
    "# Plot the 3 classes\n",
    "col = ['r*','yo','k+']\n",
    "means = np.zeros((2,3))\n",
    "\n",
    "for cl in wine_train_classes:\n",
    "    cl_labels = np.array([wine_test_labels == cl]).flatten()\n",
    "    wine_cl = wine_test_lda[cl_labels, :]\n",
    "    \n",
    "    means[:, int(cl-1)] = np.mean(wine_cl, axis=0)\n",
    "   \n",
    "    plt.plot(wine_cl[:,0], wine_cl[:,1], col[int(cl-1)])\n",
    "\n",
    "plt.title('Transformation of test data, 2 LDA components')\n",
    "plt.show()"
   ]
  },
  {
   "cell_type": "markdown",
   "metadata": {},
   "source": [
    "LDA projection is much better at preserving the class structure."
   ]
  }
 ],
 "metadata": {
  "kernelspec": {
   "display_name": "Python 3",
   "language": "python",
   "name": "python3"
  },
  "language_info": {
   "codemirror_mode": {
    "name": "ipython",
    "version": 3
   },
   "file_extension": ".py",
   "mimetype": "text/x-python",
   "name": "python",
   "nbconvert_exporter": "python",
   "pygments_lexer": "ipython3",
   "version": "3.7.6"
  }
 },
 "nbformat": 4,
 "nbformat_minor": 2
}
